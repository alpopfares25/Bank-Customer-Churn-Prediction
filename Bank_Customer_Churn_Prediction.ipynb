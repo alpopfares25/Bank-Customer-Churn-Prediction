{
  "nbformat": 4,
  "nbformat_minor": 0,
  "metadata": {
    "colab": {
      "provenance": [],
      "authorship_tag": "ABX9TyMRdp5Ku5/zMdUDaX3w8NZ0",
      "include_colab_link": true
    },
    "kernelspec": {
      "name": "python3",
      "display_name": "Python 3"
    },
    "language_info": {
      "name": "python"
    }
  },
  "cells": [
    {
      "cell_type": "markdown",
      "metadata": {
        "id": "view-in-github",
        "colab_type": "text"
      },
      "source": [
        "<a href=\"https://colab.research.google.com/github/alpopfares25/Bank-Customer-Churn-Prediction/blob/main/Bank_Customer_Churn_Prediction.ipynb\" target=\"_parent\"><img src=\"https://colab.research.google.com/assets/colab-badge.svg\" alt=\"Open In Colab\"/></a>"
      ]
    },
    {
      "cell_type": "code",
      "execution_count": null,
      "metadata": {
        "id": "Pe3gN7_alaGD",
        "colab": {
          "base_uri": "https://localhost:8080/"
        },
        "outputId": "7708ecfc-3dd4-4c64-b12a-d3e4cc6317a2"
      },
      "outputs": [
        {
          "output_type": "stream",
          "name": "stdout",
          "text": [
            "Drive already mounted at /content/drive; to attempt to forcibly remount, call drive.mount(\"/content/drive\", force_remount=True).\n"
          ]
        }
      ],
      "source": [
        "from google.colab import drive\n",
        "drive.mount('/content/drive')"
      ]
    },
    {
      "cell_type": "markdown",
      "source": [
        "#Data Filed and Problem\n",
        "This dataset is for ABC Multistate bank with following columns:\n",
        "\n",
        "\n",
        "*   customer_id, Account Number.\n",
        "*   credit_score, Credit Score.\n",
        "\n",
        "*   country, Country of Residence.\n",
        "\n",
        "*   gender, Sex.\n",
        "\n",
        "*   age, Age.\n",
        "*   tenure, From how many years he/she is having bank acc in ABC Bank.\n",
        "\n",
        "\n",
        "*   balance, Account Balance.\n",
        "\n",
        "\n",
        "*   products_number, Number of Product from bank.\n",
        "\n",
        "*   credit_card, Is this customer have credit card ?\n",
        "\n",
        "\n",
        "\n",
        "\n",
        "\n",
        "\n",
        "*  active_member, Is he/she is active Member of bank ?\n",
        "\n",
        "\n",
        "\n",
        "*   estimated_salary, Salary of Account holder.\n",
        "\n",
        "\n",
        "*   churn, used as the target. 1 if the client has left the bank during some period or 0 if he/she has not.\n",
        "\n",
        "##Aim is to Predict the Customer Churn for ABC Bank.\n",
        "dataset link: https://www.kaggle.com/datasets/gauravtopre/bank-customer-churn-dataset"
      ],
      "metadata": {
        "id": "oszPa1e1IfkO"
      }
    },
    {
      "cell_type": "markdown",
      "source": [
        "![bank churn.jpeg](data:image/jpeg;base64,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)"
      ],
      "metadata": {
        "id": "0RxZ_hktKs7y"
      }
    },
    {
      "cell_type": "markdown",
      "source": [
        "#Import Libraries"
      ],
      "metadata": {
        "id": "niyVaFV9K_er"
      }
    },
    {
      "cell_type": "code",
      "source": [
        "%matplotlib inline\n"
      ],
      "metadata": {
        "id": "24gYlYqHMb1r"
      },
      "execution_count": null,
      "outputs": []
    },
    {
      "cell_type": "code",
      "source": [
        "from IPython.display import Image\n",
        "import numpy as np\n",
        "import matplotlib.pyplot as plt\n",
        "import pandas as pd\n",
        "from sklearn.metrics import accuracy_score\n",
        "from sklearn.model_selection import train_test_split\n",
        "from sklearn.linear_model import LogisticRegression\n",
        "from sklearn.metrics import classification_report\n",
        "from sklearn.metrics import accuracy_score\n",
        "from sklearn.model_selection import train_test_split\n",
        "from sklearn.ensemble import RandomForestClassifier\n",
        "from sklearn.linear_model import Perceptron\n",
        "from sklearn.tree import DecisionTreeClassifier\n",
        "from sklearn.svm import SVC\n",
        "from sklearn.ensemble import RandomForestClassifier\n",
        "from sklearn.neighbors import KNeighborsClassifier\n",
        "import xgboost as xgb\n",
        "from xgboost import XGBClassifier\n",
        "from pandas_profiling import ProfileReport\n",
        "import seaborn as sns #for visualization\n"
      ],
      "metadata": {
        "id": "UhgDp31EK8DJ"
      },
      "execution_count": null,
      "outputs": []
    },
    {
      "cell_type": "markdown",
      "source": [
        "#Read Data"
      ],
      "metadata": {
        "id": "fi48Np9HLOyn"
      }
    },
    {
      "cell_type": "code",
      "source": [
        "df=pd.read_csv('/content/drive/MyDrive/Bank Customer Churn Prediction.csv')\n",
        "df.head()"
      ],
      "metadata": {
        "colab": {
          "base_uri": "https://localhost:8080/",
          "height": 206
        },
        "id": "LnzZgR-cLQDX",
        "outputId": "d21dd5bf-e9c9-4daf-fe88-6bcf80a954e6"
      },
      "execution_count": null,
      "outputs": [
        {
          "output_type": "execute_result",
          "data": {
            "text/plain": [
              "   customer_id  credit_score country  gender  age  tenure    balance  \\\n",
              "0     15634602           619  France  Female   42       2       0.00   \n",
              "1     15647311           608   Spain  Female   41       1   83807.86   \n",
              "2     15619304           502  France  Female   42       8  159660.80   \n",
              "3     15701354           699  France  Female   39       1       0.00   \n",
              "4     15737888           850   Spain  Female   43       2  125510.82   \n",
              "\n",
              "   products_number  credit_card  active_member  estimated_salary  churn  \n",
              "0                1            1              1         101348.88      1  \n",
              "1                1            0              1         112542.58      0  \n",
              "2                3            1              0         113931.57      1  \n",
              "3                2            0              0          93826.63      0  \n",
              "4                1            1              1          79084.10      0  "
            ],
            "text/html": [
              "\n",
              "  <div id=\"df-b66ffe14-10ea-4ea1-8ca2-3958d2cd12ad\">\n",
              "    <div class=\"colab-df-container\">\n",
              "      <div>\n",
              "<style scoped>\n",
              "    .dataframe tbody tr th:only-of-type {\n",
              "        vertical-align: middle;\n",
              "    }\n",
              "\n",
              "    .dataframe tbody tr th {\n",
              "        vertical-align: top;\n",
              "    }\n",
              "\n",
              "    .dataframe thead th {\n",
              "        text-align: right;\n",
              "    }\n",
              "</style>\n",
              "<table border=\"1\" class=\"dataframe\">\n",
              "  <thead>\n",
              "    <tr style=\"text-align: right;\">\n",
              "      <th></th>\n",
              "      <th>customer_id</th>\n",
              "      <th>credit_score</th>\n",
              "      <th>country</th>\n",
              "      <th>gender</th>\n",
              "      <th>age</th>\n",
              "      <th>tenure</th>\n",
              "      <th>balance</th>\n",
              "      <th>products_number</th>\n",
              "      <th>credit_card</th>\n",
              "      <th>active_member</th>\n",
              "      <th>estimated_salary</th>\n",
              "      <th>churn</th>\n",
              "    </tr>\n",
              "  </thead>\n",
              "  <tbody>\n",
              "    <tr>\n",
              "      <th>0</th>\n",
              "      <td>15634602</td>\n",
              "      <td>619</td>\n",
              "      <td>France</td>\n",
              "      <td>Female</td>\n",
              "      <td>42</td>\n",
              "      <td>2</td>\n",
              "      <td>0.00</td>\n",
              "      <td>1</td>\n",
              "      <td>1</td>\n",
              "      <td>1</td>\n",
              "      <td>101348.88</td>\n",
              "      <td>1</td>\n",
              "    </tr>\n",
              "    <tr>\n",
              "      <th>1</th>\n",
              "      <td>15647311</td>\n",
              "      <td>608</td>\n",
              "      <td>Spain</td>\n",
              "      <td>Female</td>\n",
              "      <td>41</td>\n",
              "      <td>1</td>\n",
              "      <td>83807.86</td>\n",
              "      <td>1</td>\n",
              "      <td>0</td>\n",
              "      <td>1</td>\n",
              "      <td>112542.58</td>\n",
              "      <td>0</td>\n",
              "    </tr>\n",
              "    <tr>\n",
              "      <th>2</th>\n",
              "      <td>15619304</td>\n",
              "      <td>502</td>\n",
              "      <td>France</td>\n",
              "      <td>Female</td>\n",
              "      <td>42</td>\n",
              "      <td>8</td>\n",
              "      <td>159660.80</td>\n",
              "      <td>3</td>\n",
              "      <td>1</td>\n",
              "      <td>0</td>\n",
              "      <td>113931.57</td>\n",
              "      <td>1</td>\n",
              "    </tr>\n",
              "    <tr>\n",
              "      <th>3</th>\n",
              "      <td>15701354</td>\n",
              "      <td>699</td>\n",
              "      <td>France</td>\n",
              "      <td>Female</td>\n",
              "      <td>39</td>\n",
              "      <td>1</td>\n",
              "      <td>0.00</td>\n",
              "      <td>2</td>\n",
              "      <td>0</td>\n",
              "      <td>0</td>\n",
              "      <td>93826.63</td>\n",
              "      <td>0</td>\n",
              "    </tr>\n",
              "    <tr>\n",
              "      <th>4</th>\n",
              "      <td>15737888</td>\n",
              "      <td>850</td>\n",
              "      <td>Spain</td>\n",
              "      <td>Female</td>\n",
              "      <td>43</td>\n",
              "      <td>2</td>\n",
              "      <td>125510.82</td>\n",
              "      <td>1</td>\n",
              "      <td>1</td>\n",
              "      <td>1</td>\n",
              "      <td>79084.10</td>\n",
              "      <td>0</td>\n",
              "    </tr>\n",
              "  </tbody>\n",
              "</table>\n",
              "</div>\n",
              "      <button class=\"colab-df-convert\" onclick=\"convertToInteractive('df-b66ffe14-10ea-4ea1-8ca2-3958d2cd12ad')\"\n",
              "              title=\"Convert this dataframe to an interactive table.\"\n",
              "              style=\"display:none;\">\n",
              "        \n",
              "  <svg xmlns=\"http://www.w3.org/2000/svg\" height=\"24px\"viewBox=\"0 0 24 24\"\n",
              "       width=\"24px\">\n",
              "    <path d=\"M0 0h24v24H0V0z\" fill=\"none\"/>\n",
              "    <path d=\"M18.56 5.44l.94 2.06.94-2.06 2.06-.94-2.06-.94-.94-2.06-.94 2.06-2.06.94zm-11 1L8.5 8.5l.94-2.06 2.06-.94-2.06-.94L8.5 2.5l-.94 2.06-2.06.94zm10 10l.94 2.06.94-2.06 2.06-.94-2.06-.94-.94-2.06-.94 2.06-2.06.94z\"/><path d=\"M17.41 7.96l-1.37-1.37c-.4-.4-.92-.59-1.43-.59-.52 0-1.04.2-1.43.59L10.3 9.45l-7.72 7.72c-.78.78-.78 2.05 0 2.83L4 21.41c.39.39.9.59 1.41.59.51 0 1.02-.2 1.41-.59l7.78-7.78 2.81-2.81c.8-.78.8-2.07 0-2.86zM5.41 20L4 18.59l7.72-7.72 1.47 1.35L5.41 20z\"/>\n",
              "  </svg>\n",
              "      </button>\n",
              "      \n",
              "  <style>\n",
              "    .colab-df-container {\n",
              "      display:flex;\n",
              "      flex-wrap:wrap;\n",
              "      gap: 12px;\n",
              "    }\n",
              "\n",
              "    .colab-df-convert {\n",
              "      background-color: #E8F0FE;\n",
              "      border: none;\n",
              "      border-radius: 50%;\n",
              "      cursor: pointer;\n",
              "      display: none;\n",
              "      fill: #1967D2;\n",
              "      height: 32px;\n",
              "      padding: 0 0 0 0;\n",
              "      width: 32px;\n",
              "    }\n",
              "\n",
              "    .colab-df-convert:hover {\n",
              "      background-color: #E2EBFA;\n",
              "      box-shadow: 0px 1px 2px rgba(60, 64, 67, 0.3), 0px 1px 3px 1px rgba(60, 64, 67, 0.15);\n",
              "      fill: #174EA6;\n",
              "    }\n",
              "\n",
              "    [theme=dark] .colab-df-convert {\n",
              "      background-color: #3B4455;\n",
              "      fill: #D2E3FC;\n",
              "    }\n",
              "\n",
              "    [theme=dark] .colab-df-convert:hover {\n",
              "      background-color: #434B5C;\n",
              "      box-shadow: 0px 1px 3px 1px rgba(0, 0, 0, 0.15);\n",
              "      filter: drop-shadow(0px 1px 2px rgba(0, 0, 0, 0.3));\n",
              "      fill: #FFFFFF;\n",
              "    }\n",
              "  </style>\n",
              "\n",
              "      <script>\n",
              "        const buttonEl =\n",
              "          document.querySelector('#df-b66ffe14-10ea-4ea1-8ca2-3958d2cd12ad button.colab-df-convert');\n",
              "        buttonEl.style.display =\n",
              "          google.colab.kernel.accessAllowed ? 'block' : 'none';\n",
              "\n",
              "        async function convertToInteractive(key) {\n",
              "          const element = document.querySelector('#df-b66ffe14-10ea-4ea1-8ca2-3958d2cd12ad');\n",
              "          const dataTable =\n",
              "            await google.colab.kernel.invokeFunction('convertToInteractive',\n",
              "                                                     [key], {});\n",
              "          if (!dataTable) return;\n",
              "\n",
              "          const docLinkHtml = 'Like what you see? Visit the ' +\n",
              "            '<a target=\"_blank\" href=https://colab.research.google.com/notebooks/data_table.ipynb>data table notebook</a>'\n",
              "            + ' to learn more about interactive tables.';\n",
              "          element.innerHTML = '';\n",
              "          dataTable['output_type'] = 'display_data';\n",
              "          await google.colab.output.renderOutput(dataTable, element);\n",
              "          const docLink = document.createElement('div');\n",
              "          docLink.innerHTML = docLinkHtml;\n",
              "          element.appendChild(docLink);\n",
              "        }\n",
              "      </script>\n",
              "    </div>\n",
              "  </div>\n",
              "  "
            ]
          },
          "metadata": {},
          "execution_count": 73
        }
      ]
    },
    {
      "cell_type": "markdown",
      "source": [
        "#1- EDA & Visualization"
      ],
      "metadata": {
        "id": "pc-onbIaL0Ds"
      }
    },
    {
      "cell_type": "code",
      "source": [
        "#churn distribuation\n",
        "sns.displot(df, x=\"churn\", alpha=.4, rug=False)"
      ],
      "metadata": {
        "colab": {
          "base_uri": "https://localhost:8080/",
          "height": 386
        },
        "id": "GsU0djPlL6-J",
        "outputId": "e65f5af0-741e-47e1-8d4e-98dfa405b67a"
      },
      "execution_count": null,
      "outputs": [
        {
          "output_type": "execute_result",
          "data": {
            "text/plain": [
              "<seaborn.axisgrid.FacetGrid at 0x7fa698500190>"
            ]
          },
          "metadata": {},
          "execution_count": 17
        },
        {
          "output_type": "display_data",
          "data": {
            "text/plain": [
              "<Figure size 360x360 with 1 Axes>"
            ],
            "image/png": "[encoded data removed]"
          },
          "metadata": {
            "needs_background": "light"
          }
        }
      ]
    },
    {
      "cell_type": "code",
      "source": [
        "#which country has the largest customer churn\n",
        "df.groupby('country').describe()['churn'].transpose()"
      ],
      "metadata": {
        "colab": {
          "base_uri": "https://localhost:8080/",
          "height": 300
        },
        "id": "6RCn0AOjM55x",
        "outputId": "7fbe6683-4eea-43d1-d02f-8b23b07bfe38"
      },
      "execution_count": null,
      "outputs": [
        {
          "output_type": "execute_result",
          "data": {
            "text/plain": [
              "country       France      Germany        Spain\n",
              "count    5014.000000  2509.000000  2477.000000\n",
              "mean        0.161548     0.324432     0.166734\n",
              "std         0.368072     0.468256     0.372813\n",
              "min         0.000000     0.000000     0.000000\n",
              "25%         0.000000     0.000000     0.000000\n",
              "50%         0.000000     0.000000     0.000000\n",
              "75%         0.000000     1.000000     0.000000\n",
              "max         1.000000     1.000000     1.000000"
            ],
            "text/html": [
              "\n",
              "  <div id=\"df-9f506c79-6a9b-44fd-b556-0284eb784bf9\">\n",
              "    <div class=\"colab-df-container\">\n",
              "      <div>\n",
              "<style scoped>\n",
              "    .dataframe tbody tr th:only-of-type {\n",
              "        vertical-align: middle;\n",
              "    }\n",
              "\n",
              "    .dataframe tbody tr th {\n",
              "        vertical-align: top;\n",
              "    }\n",
              "\n",
              "    .dataframe thead th {\n",
              "        text-align: right;\n",
              "    }\n",
              "</style>\n",
              "<table border=\"1\" class=\"dataframe\">\n",
              "  <thead>\n",
              "    <tr style=\"text-align: right;\">\n",
              "      <th>country</th>\n",
              "      <th>France</th>\n",
              "      <th>Germany</th>\n",
              "      <th>Spain</th>\n",
              "    </tr>\n",
              "  </thead>\n",
              "  <tbody>\n",
              "    <tr>\n",
              "      <th>count</th>\n",
              "      <td>5014.000000</td>\n",
              "      <td>2509.000000</td>\n",
              "      <td>2477.000000</td>\n",
              "    </tr>\n",
              "    <tr>\n",
              "      <th>mean</th>\n",
              "      <td>0.161548</td>\n",
              "      <td>0.324432</td>\n",
              "      <td>0.166734</td>\n",
              "    </tr>\n",
              "    <tr>\n",
              "      <th>std</th>\n",
              "      <td>0.368072</td>\n",
              "      <td>0.468256</td>\n",
              "      <td>0.372813</td>\n",
              "    </tr>\n",
              "    <tr>\n",
              "      <th>min</th>\n",
              "      <td>0.000000</td>\n",
              "      <td>0.000000</td>\n",
              "      <td>0.000000</td>\n",
              "    </tr>\n",
              "    <tr>\n",
              "      <th>25%</th>\n",
              "      <td>0.000000</td>\n",
              "      <td>0.000000</td>\n",
              "      <td>0.000000</td>\n",
              "    </tr>\n",
              "    <tr>\n",
              "      <th>50%</th>\n",
              "      <td>0.000000</td>\n",
              "      <td>0.000000</td>\n",
              "      <td>0.000000</td>\n",
              "    </tr>\n",
              "    <tr>\n",
              "      <th>75%</th>\n",
              "      <td>0.000000</td>\n",
              "      <td>1.000000</td>\n",
              "      <td>0.000000</td>\n",
              "    </tr>\n",
              "    <tr>\n",
              "      <th>max</th>\n",
              "      <td>1.000000</td>\n",
              "      <td>1.000000</td>\n",
              "      <td>1.000000</td>\n",
              "    </tr>\n",
              "  </tbody>\n",
              "</table>\n",
              "</div>\n",
              "      <button class=\"colab-df-convert\" onclick=\"convertToInteractive('df-9f506c79-6a9b-44fd-b556-0284eb784bf9')\"\n",
              "              title=\"Convert this dataframe to an interactive table.\"\n",
              "              style=\"display:none;\">\n",
              "        \n",
              "  <svg xmlns=\"http://www.w3.org/2000/svg\" height=\"24px\"viewBox=\"0 0 24 24\"\n",
              "       width=\"24px\">\n",
              "    <path d=\"M0 0h24v24H0V0z\" fill=\"none\"/>\n",
              "    <path d=\"M18.56 5.44l.94 2.06.94-2.06 2.06-.94-2.06-.94-.94-2.06-.94 2.06-2.06.94zm-11 1L8.5 8.5l.94-2.06 2.06-.94-2.06-.94L8.5 2.5l-.94 2.06-2.06.94zm10 10l.94 2.06.94-2.06 2.06-.94-2.06-.94-.94-2.06-.94 2.06-2.06.94z\"/><path d=\"M17.41 7.96l-1.37-1.37c-.4-.4-.92-.59-1.43-.59-.52 0-1.04.2-1.43.59L10.3 9.45l-7.72 7.72c-.78.78-.78 2.05 0 2.83L4 21.41c.39.39.9.59 1.41.59.51 0 1.02-.2 1.41-.59l7.78-7.78 2.81-2.81c.8-.78.8-2.07 0-2.86zM5.41 20L4 18.59l7.72-7.72 1.47 1.35L5.41 20z\"/>\n",
              "  </svg>\n",
              "      </button>\n",
              "      \n",
              "  <style>\n",
              "    .colab-df-container {\n",
              "      display:flex;\n",
              "      flex-wrap:wrap;\n",
              "      gap: 12px;\n",
              "    }\n",
              "\n",
              "    .colab-df-convert {\n",
              "      background-color: #E8F0FE;\n",
              "      border: none;\n",
              "      border-radius: 50%;\n",
              "      cursor: pointer;\n",
              "      display: none;\n",
              "      fill: #1967D2;\n",
              "      height: 32px;\n",
              "      padding: 0 0 0 0;\n",
              "      width: 32px;\n",
              "    }\n",
              "\n",
              "    .colab-df-convert:hover {\n",
              "      background-color: #E2EBFA;\n",
              "      box-shadow: 0px 1px 2px rgba(60, 64, 67, 0.3), 0px 1px 3px 1px rgba(60, 64, 67, 0.15);\n",
              "      fill: #174EA6;\n",
              "    }\n",
              "\n",
              "    [theme=dark] .colab-df-convert {\n",
              "      background-color: #3B4455;\n",
              "      fill: #D2E3FC;\n",
              "    }\n",
              "\n",
              "    [theme=dark] .colab-df-convert:hover {\n",
              "      background-color: #434B5C;\n",
              "      box-shadow: 0px 1px 3px 1px rgba(0, 0, 0, 0.15);\n",
              "      filter: drop-shadow(0px 1px 2px rgba(0, 0, 0, 0.3));\n",
              "      fill: #FFFFFF;\n",
              "    }\n",
              "  </style>\n",
              "\n",
              "      <script>\n",
              "        const buttonEl =\n",
              "          document.querySelector('#df-9f506c79-6a9b-44fd-b556-0284eb784bf9 button.colab-df-convert');\n",
              "        buttonEl.style.display =\n",
              "          google.colab.kernel.accessAllowed ? 'block' : 'none';\n",
              "\n",
              "        async function convertToInteractive(key) {\n",
              "          const element = document.querySelector('#df-9f506c79-6a9b-44fd-b556-0284eb784bf9');\n",
              "          const dataTable =\n",
              "            await google.colab.kernel.invokeFunction('convertToInteractive',\n",
              "                                                     [key], {});\n",
              "          if (!dataTable) return;\n",
              "\n",
              "          const docLinkHtml = 'Like what you see? Visit the ' +\n",
              "            '<a target=\"_blank\" href=https://colab.research.google.com/notebooks/data_table.ipynb>data table notebook</a>'\n",
              "            + ' to learn more about interactive tables.';\n",
              "          element.innerHTML = '';\n",
              "          dataTable['output_type'] = 'display_data';\n",
              "          await google.colab.output.renderOutput(dataTable, element);\n",
              "          const docLink = document.createElement('div');\n",
              "          docLink.innerHTML = docLinkHtml;\n",
              "          element.appendChild(docLink);\n",
              "        }\n",
              "      </script>\n",
              "    </div>\n",
              "  </div>\n",
              "  "
            ]
          },
          "metadata": {},
          "execution_count": 18
        }
      ]
    },
    {
      "cell_type": "code",
      "source": [
        "sns.countplot(x = 'churn', hue= 'country', data = df)"
      ],
      "metadata": {
        "colab": {
          "base_uri": "https://localhost:8080/",
          "height": 296
        },
        "id": "_BNzCp_aNvS5",
        "outputId": "e9361509-d9ae-4a37-fe12-a175a30a84e9"
      },
      "execution_count": null,
      "outputs": [
        {
          "output_type": "execute_result",
          "data": {
            "text/plain": [
              "<matplotlib.axes._subplots.AxesSubplot at 0x7fa6988e5c10>"
            ]
          },
          "metadata": {},
          "execution_count": 19
        },
        {
          "output_type": "display_data",
          "data": {
            "text/plain": [
              "<Figure size 432x288 with 1 Axes>"
            ],
            "image/png": "[encoded data removed]"
          },
          "metadata": {
            "needs_background": "light"
          }
        }
      ]
    },
    {
      "cell_type": "code",
      "source": [
        "# number of customers who has left (has credit card or not)\n",
        "sns.countplot(x = 'churn', hue= 'credit_card', data = df)\n"
      ],
      "metadata": {
        "colab": {
          "base_uri": "https://localhost:8080/",
          "height": 296
        },
        "id": "IEtes-MAODY6",
        "outputId": "2ed5e771-0895-4f9a-8aae-331de3a7ffdb"
      },
      "execution_count": null,
      "outputs": [
        {
          "output_type": "execute_result",
          "data": {
            "text/plain": [
              "<matplotlib.axes._subplots.AxesSubplot at 0x7fa6984e2690>"
            ]
          },
          "metadata": {},
          "execution_count": 20
        },
        {
          "output_type": "display_data",
          "data": {
            "text/plain": [
              "<Figure size 432x288 with 1 Axes>"
            ],
            "image/png": "[encoded data removed]"
          },
          "metadata": {
            "needs_background": "light"
          }
        }
      ]
    },
    {
      "cell_type": "code",
      "source": [
        "# females VS males (If the number of women who left is greater than the number of men, or vice versa)\n",
        "sns.countplot(x = 'churn', hue= 'gender', data = df)"
      ],
      "metadata": {
        "colab": {
          "base_uri": "https://localhost:8080/",
          "height": 296
        },
        "id": "RKWE5OoVOhcD",
        "outputId": "e5da9733-b1a5-46af-a5f1-bdfd50c5c80d"
      },
      "execution_count": null,
      "outputs": [
        {
          "output_type": "execute_result",
          "data": {
            "text/plain": [
              "<matplotlib.axes._subplots.AxesSubplot at 0x7fa697f25990>"
            ]
          },
          "metadata": {},
          "execution_count": 21
        },
        {
          "output_type": "display_data",
          "data": {
            "text/plain": [
              "<Figure size 432x288 with 1 Axes>"
            ],
            "image/png": "[encoded data removed]"
          },
          "metadata": {
            "needs_background": "light"
          }
        }
      ]
    },
    {
      "cell_type": "code",
      "source": [
        "# females VS males (If the number of active customers who left is greater than the number of not active, or vice versa)\n",
        "sns.countplot(x = 'churn', hue= 'active_member', data = df)"
      ],
      "metadata": {
        "colab": {
          "base_uri": "https://localhost:8080/",
          "height": 296
        },
        "id": "cH0lDExVPpLe",
        "outputId": "db91fa14-9e76-4b93-ceb1-91c137be6e8d"
      },
      "execution_count": null,
      "outputs": [
        {
          "output_type": "execute_result",
          "data": {
            "text/plain": [
              "<matplotlib.axes._subplots.AxesSubplot at 0x7fa697f0e4d0>"
            ]
          },
          "metadata": {},
          "execution_count": 22
        },
        {
          "output_type": "display_data",
          "data": {
            "text/plain": [
              "<Figure size 432x288 with 1 Axes>"
            ],
            "image/png": "[encoded data removed]"
          },
          "metadata": {
            "needs_background": "light"
          }
        }
      ]
    },
    {
      "cell_type": "code",
      "source": [
        "#churn with credit score\n",
        "sns.catplot(x = 'churn', y=\"credit_score\", kind=\"box\", data = df)"
      ],
      "metadata": {
        "colab": {
          "base_uri": "https://localhost:8080/",
          "height": 386
        },
        "id": "9MeAcmzsQu2q",
        "outputId": "df07b4e3-75db-45ba-8d25-6ff12a52a09d"
      },
      "execution_count": null,
      "outputs": [
        {
          "output_type": "execute_result",
          "data": {
            "text/plain": [
              "<seaborn.axisgrid.FacetGrid at 0x7fa6984ea250>"
            ]
          },
          "metadata": {},
          "execution_count": 23
        },
        {
          "output_type": "display_data",
          "data": {
            "text/plain": [
              "<Figure size 360x360 with 1 Axes>"
            ],
            "image/png": "[encoded data removed]"
          },
          "metadata": {
            "needs_background": "light"
          }
        }
      ]
    },
    {
      "cell_type": "code",
      "source": [
        "#churn with age (is older customer will leave ?)\n",
        "sns.catplot(x = 'churn', y=\"age\", kind=\"box\", data = df)"
      ],
      "metadata": {
        "colab": {
          "base_uri": "https://localhost:8080/",
          "height": 386
        },
        "id": "K8nZIBS0RB7Q",
        "outputId": "101f37c5-c828-4aed-f5bf-439271b77c8d"
      },
      "execution_count": null,
      "outputs": [
        {
          "output_type": "execute_result",
          "data": {
            "text/plain": [
              "<seaborn.axisgrid.FacetGrid at 0x7fa697e58ad0>"
            ]
          },
          "metadata": {},
          "execution_count": 24
        },
        {
          "output_type": "display_data",
          "data": {
            "text/plain": [
              "<Figure size 360x360 with 1 Axes>"
            ],
            "image/png": "[encoded data removed]"
          },
          "metadata": {
            "needs_background": "light"
          }
        }
      ]
    },
    {
      "cell_type": "code",
      "source": [
        "#churn with balance ( ?)\n",
        "sns.catplot(x = 'churn', y=\"balance\", kind=\"box\", data = df)"
      ],
      "metadata": {
        "colab": {
          "base_uri": "https://localhost:8080/",
          "height": 386
        },
        "id": "hLlA9lb_RRgr",
        "outputId": "6dec14fa-b532-41c5-b507-b9be46254a8d"
      },
      "execution_count": null,
      "outputs": [
        {
          "output_type": "execute_result",
          "data": {
            "text/plain": [
              "<seaborn.axisgrid.FacetGrid at 0x7fa697d02790>"
            ]
          },
          "metadata": {},
          "execution_count": 25
        },
        {
          "output_type": "display_data",
          "data": {
            "text/plain": [
              "<Figure size 360x360 with 1 Axes>"
            ],
            "image/png": "[encoded data removed]"
          },
          "metadata": {
            "needs_background": "light"
          }
        }
      ]
    },
    {
      "cell_type": "markdown",
      "source": [
        "#2-Data Preprocessing"
      ],
      "metadata": {
        "id": "7rT5X24IRoG1"
      }
    },
    {
      "cell_type": "code",
      "source": [
        "df.info()"
      ],
      "metadata": {
        "colab": {
          "base_uri": "https://localhost:8080/"
        },
        "id": "jAetI2BzRwMR",
        "outputId": "e2ab203c-2e06-41d7-b594-693205febfe2"
      },
      "execution_count": null,
      "outputs": [
        {
          "output_type": "stream",
          "name": "stdout",
          "text": [
            "<class 'pandas.core.frame.DataFrame'>\n",
            "RangeIndex: 10000 entries, 0 to 9999\n",
            "Data columns (total 12 columns):\n",
            " #   Column            Non-Null Count  Dtype  \n",
            "---  ------            --------------  -----  \n",
            " 0   customer_id       10000 non-null  int64  \n",
            " 1   credit_score      10000 non-null  int64  \n",
            " 2   country           10000 non-null  object \n",
            " 3   gender            10000 non-null  object \n",
            " 4   age               10000 non-null  int64  \n",
            " 5   tenure            10000 non-null  int64  \n",
            " 6   balance           10000 non-null  float64\n",
            " 7   products_number   10000 non-null  int64  \n",
            " 8   credit_card       10000 non-null  int64  \n",
            " 9   active_member     10000 non-null  int64  \n",
            " 10  estimated_salary  10000 non-null  float64\n",
            " 11  churn             10000 non-null  int64  \n",
            "dtypes: float64(2), int64(8), object(2)\n",
            "memory usage: 937.6+ KB\n"
          ]
        }
      ]
    },
    {
      "cell_type": "code",
      "source": [
        "# working with missing data\n",
        "\n",
        "df.isna().sum()"
      ],
      "metadata": {
        "colab": {
          "base_uri": "https://localhost:8080/"
        },
        "id": "MwH15TfkWTYx",
        "outputId": "2db7056c-b5ec-4dd6-97e5-7b965c68fb97"
      },
      "execution_count": null,
      "outputs": [
        {
          "output_type": "execute_result",
          "data": {
            "text/plain": [
              "customer_id         0\n",
              "credit_score        0\n",
              "age                 0\n",
              "tenure              0\n",
              "balance             0\n",
              "products_number     0\n",
              "credit_card         0\n",
              "active_member       0\n",
              "estimated_salary    0\n",
              "churn               0\n",
              "dtype: int64"
            ]
          },
          "metadata": {},
          "execution_count": 48
        }
      ]
    },
    {
      "cell_type": "code",
      "source": [
        "# working with cateogrical data\n",
        "df['gender'].replace('Female', 0,inplace=True)\n",
        "df['gender'].replace('Male', 1,inplace=True)\n",
        "df.head()\n"
      ],
      "metadata": {
        "colab": {
          "base_uri": "https://localhost:8080/",
          "height": 206
        },
        "id": "qXyEBWM1Wa9S",
        "outputId": "fd119245-4536-4605-f264-f21c7573e07f"
      },
      "execution_count": null,
      "outputs": [
        {
          "output_type": "execute_result",
          "data": {
            "text/plain": [
              "   customer_id  credit_score country  gender  age  tenure    balance  \\\n",
              "0     15634602           619  France       0   42       2       0.00   \n",
              "1     15647311           608   Spain       0   41       1   83807.86   \n",
              "2     15619304           502  France       0   42       8  159660.80   \n",
              "3     15701354           699  France       0   39       1       0.00   \n",
              "4     15737888           850   Spain       0   43       2  125510.82   \n",
              "\n",
              "   products_number  credit_card  active_member  estimated_salary  churn  \n",
              "0                1            1              1         101348.88      1  \n",
              "1                1            0              1         112542.58      0  \n",
              "2                3            1              0         113931.57      1  \n",
              "3                2            0              0          93826.63      0  \n",
              "4                1            1              1          79084.10      0  "
            ],
            "text/html": [
              "\n",
              "  <div id=\"df-cc6900c6-d115-4445-9357-7ef3fe3c884e\">\n",
              "    <div class=\"colab-df-container\">\n",
              "      <div>\n",
              "<style scoped>\n",
              "    .dataframe tbody tr th:only-of-type {\n",
              "        vertical-align: middle;\n",
              "    }\n",
              "\n",
              "    .dataframe tbody tr th {\n",
              "        vertical-align: top;\n",
              "    }\n",
              "\n",
              "    .dataframe thead th {\n",
              "        text-align: right;\n",
              "    }\n",
              "</style>\n",
              "<table border=\"1\" class=\"dataframe\">\n",
              "  <thead>\n",
              "    <tr style=\"text-align: right;\">\n",
              "      <th></th>\n",
              "      <th>customer_id</th>\n",
              "      <th>credit_score</th>\n",
              "      <th>country</th>\n",
              "      <th>gender</th>\n",
              "      <th>age</th>\n",
              "      <th>tenure</th>\n",
              "      <th>balance</th>\n",
              "      <th>products_number</th>\n",
              "      <th>credit_card</th>\n",
              "      <th>active_member</th>\n",
              "      <th>estimated_salary</th>\n",
              "      <th>churn</th>\n",
              "    </tr>\n",
              "  </thead>\n",
              "  <tbody>\n",
              "    <tr>\n",
              "      <th>0</th>\n",
              "      <td>15634602</td>\n",
              "      <td>619</td>\n",
              "      <td>France</td>\n",
              "      <td>0</td>\n",
              "      <td>42</td>\n",
              "      <td>2</td>\n",
              "      <td>0.00</td>\n",
              "      <td>1</td>\n",
              "      <td>1</td>\n",
              "      <td>1</td>\n",
              "      <td>101348.88</td>\n",
              "      <td>1</td>\n",
              "    </tr>\n",
              "    <tr>\n",
              "      <th>1</th>\n",
              "      <td>15647311</td>\n",
              "      <td>608</td>\n",
              "      <td>Spain</td>\n",
              "      <td>0</td>\n",
              "      <td>41</td>\n",
              "      <td>1</td>\n",
              "      <td>83807.86</td>\n",
              "      <td>1</td>\n",
              "      <td>0</td>\n",
              "      <td>1</td>\n",
              "      <td>112542.58</td>\n",
              "      <td>0</td>\n",
              "    </tr>\n",
              "    <tr>\n",
              "      <th>2</th>\n",
              "      <td>15619304</td>\n",
              "      <td>502</td>\n",
              "      <td>France</td>\n",
              "      <td>0</td>\n",
              "      <td>42</td>\n",
              "      <td>8</td>\n",
              "      <td>159660.80</td>\n",
              "      <td>3</td>\n",
              "      <td>1</td>\n",
              "      <td>0</td>\n",
              "      <td>113931.57</td>\n",
              "      <td>1</td>\n",
              "    </tr>\n",
              "    <tr>\n",
              "      <th>3</th>\n",
              "      <td>15701354</td>\n",
              "      <td>699</td>\n",
              "      <td>France</td>\n",
              "      <td>0</td>\n",
              "      <td>39</td>\n",
              "      <td>1</td>\n",
              "      <td>0.00</td>\n",
              "      <td>2</td>\n",
              "      <td>0</td>\n",
              "      <td>0</td>\n",
              "      <td>93826.63</td>\n",
              "      <td>0</td>\n",
              "    </tr>\n",
              "    <tr>\n",
              "      <th>4</th>\n",
              "      <td>15737888</td>\n",
              "      <td>850</td>\n",
              "      <td>Spain</td>\n",
              "      <td>0</td>\n",
              "      <td>43</td>\n",
              "      <td>2</td>\n",
              "      <td>125510.82</td>\n",
              "      <td>1</td>\n",
              "      <td>1</td>\n",
              "      <td>1</td>\n",
              "      <td>79084.10</td>\n",
              "      <td>0</td>\n",
              "    </tr>\n",
              "  </tbody>\n",
              "</table>\n",
              "</div>\n",
              "      <button class=\"colab-df-convert\" onclick=\"convertToInteractive('df-cc6900c6-d115-4445-9357-7ef3fe3c884e')\"\n",
              "              title=\"Convert this dataframe to an interactive table.\"\n",
              "              style=\"display:none;\">\n",
              "        \n",
              "  <svg xmlns=\"http://www.w3.org/2000/svg\" height=\"24px\"viewBox=\"0 0 24 24\"\n",
              "       width=\"24px\">\n",
              "    <path d=\"M0 0h24v24H0V0z\" fill=\"none\"/>\n",
              "    <path d=\"M18.56 5.44l.94 2.06.94-2.06 2.06-.94-2.06-.94-.94-2.06-.94 2.06-2.06.94zm-11 1L8.5 8.5l.94-2.06 2.06-.94-2.06-.94L8.5 2.5l-.94 2.06-2.06.94zm10 10l.94 2.06.94-2.06 2.06-.94-2.06-.94-.94-2.06-.94 2.06-2.06.94z\"/><path d=\"M17.41 7.96l-1.37-1.37c-.4-.4-.92-.59-1.43-.59-.52 0-1.04.2-1.43.59L10.3 9.45l-7.72 7.72c-.78.78-.78 2.05 0 2.83L4 21.41c.39.39.9.59 1.41.59.51 0 1.02-.2 1.41-.59l7.78-7.78 2.81-2.81c.8-.78.8-2.07 0-2.86zM5.41 20L4 18.59l7.72-7.72 1.47 1.35L5.41 20z\"/>\n",
              "  </svg>\n",
              "      </button>\n",
              "      \n",
              "  <style>\n",
              "    .colab-df-container {\n",
              "      display:flex;\n",
              "      flex-wrap:wrap;\n",
              "      gap: 12px;\n",
              "    }\n",
              "\n",
              "    .colab-df-convert {\n",
              "      background-color: #E8F0FE;\n",
              "      border: none;\n",
              "      border-radius: 50%;\n",
              "      cursor: pointer;\n",
              "      display: none;\n",
              "      fill: #1967D2;\n",
              "      height: 32px;\n",
              "      padding: 0 0 0 0;\n",
              "      width: 32px;\n",
              "    }\n",
              "\n",
              "    .colab-df-convert:hover {\n",
              "      background-color: #E2EBFA;\n",
              "      box-shadow: 0px 1px 2px rgba(60, 64, 67, 0.3), 0px 1px 3px 1px rgba(60, 64, 67, 0.15);\n",
              "      fill: #174EA6;\n",
              "    }\n",
              "\n",
              "    [theme=dark] .colab-df-convert {\n",
              "      background-color: #3B4455;\n",
              "      fill: #D2E3FC;\n",
              "    }\n",
              "\n",
              "    [theme=dark] .colab-df-convert:hover {\n",
              "      background-color: #434B5C;\n",
              "      box-shadow: 0px 1px 3px 1px rgba(0, 0, 0, 0.15);\n",
              "      filter: drop-shadow(0px 1px 2px rgba(0, 0, 0, 0.3));\n",
              "      fill: #FFFFFF;\n",
              "    }\n",
              "  </style>\n",
              "\n",
              "      <script>\n",
              "        const buttonEl =\n",
              "          document.querySelector('#df-cc6900c6-d115-4445-9357-7ef3fe3c884e button.colab-df-convert');\n",
              "        buttonEl.style.display =\n",
              "          google.colab.kernel.accessAllowed ? 'block' : 'none';\n",
              "\n",
              "        async function convertToInteractive(key) {\n",
              "          const element = document.querySelector('#df-cc6900c6-d115-4445-9357-7ef3fe3c884e');\n",
              "          const dataTable =\n",
              "            await google.colab.kernel.invokeFunction('convertToInteractive',\n",
              "                                                     [key], {});\n",
              "          if (!dataTable) return;\n",
              "\n",
              "          const docLinkHtml = 'Like what you see? Visit the ' +\n",
              "            '<a target=\"_blank\" href=https://colab.research.google.com/notebooks/data_table.ipynb>data table notebook</a>'\n",
              "            + ' to learn more about interactive tables.';\n",
              "          element.innerHTML = '';\n",
              "          dataTable['output_type'] = 'display_data';\n",
              "          await google.colab.output.renderOutput(dataTable, element);\n",
              "          const docLink = document.createElement('div');\n",
              "          docLink.innerHTML = docLinkHtml;\n",
              "          element.appendChild(docLink);\n",
              "        }\n",
              "      </script>\n",
              "    </div>\n",
              "  </div>\n",
              "  "
            ]
          },
          "metadata": {},
          "execution_count": 74
        }
      ]
    },
    {
      "cell_type": "code",
      "source": [
        "# split data into train and test\n",
        "df.drop(['country','customer_id'],axis=1,inplace=True)\n",
        "y=df['churn']\n",
        "X=df.drop(['churn'],axis=1)\n",
        "\n",
        "x_train, x_test, y_train, y_test = train_test_split(X, y, test_size=0.2,stratify=y)"
      ],
      "metadata": {
        "id": "c30BNKZUXgZK"
      },
      "execution_count": null,
      "outputs": []
    },
    {
      "cell_type": "code",
      "source": [
        "# feature scaling\n",
        "from sklearn.preprocessing import StandardScaler\n",
        "scaler=StandardScaler()\n",
        "x_train=scaler.fit_transform(x_train)\n",
        "x_test=scaler.transform(x_test)"
      ],
      "metadata": {
        "id": "CJzUdAtiX6dl"
      },
      "execution_count": null,
      "outputs": []
    },
    {
      "cell_type": "markdown",
      "source": [
        "#3- Model Optimization (Prediction)"
      ],
      "metadata": {
        "id": "8Uc00E3gX8i8"
      }
    },
    {
      "cell_type": "code",
      "source": [
        "#using logisticRegression\n",
        "\n",
        "LR=LogisticRegression()\n",
        "LR.fit(x_train,y_train)\n",
        "ac_lr = accuracy_score(y_test,LR.predict(x_test))\n",
        "\n",
        "#using Perceptron\n",
        "PR=Perceptron()\n",
        "PR.fit(x_train,y_train)\n",
        "ac_pr = accuracy_score(y_test,PR.predict(x_test))\n",
        "\n",
        "#using SVM\n",
        "svc=SVC()\n",
        "svc.fit(x_train,y_train)\n",
        "ac_svc = accuracy_score(y_test,svc.predict(x_test))\n",
        "\n",
        "#using Decision Tree\n",
        "DT= DecisionTreeClassifier(max_depth=4)\n",
        "DT.fit(x_train,y_train)\n",
        "ac_dt = accuracy_score(y_test,DT.predict(x_test))\n",
        "\n",
        "#using Random Forest\n",
        "RF= RandomForestClassifier()\n",
        "RF.fit(x_train,y_train)\n",
        "ac_rf = accuracy_score(y_test,RF.predict(x_test))\n",
        "\n",
        "#using KNN\n",
        "knn= KNeighborsClassifier()\n",
        "knn.fit(x_train,y_train)\n",
        "ac_knn = accuracy_score(y_test,knn.predict(x_test))\n",
        "\n",
        "#using XGB\n",
        "\n",
        "xgb=XGBClassifier()\n",
        "xgb.fit(x_train,y_train)\n",
        "ac_xgb = accuracy_score(y_test,xgb.predict(x_test))\n",
        "\n",
        "models = pd.DataFrame({\n",
        "    'Model': ['Support Vector Machines', 'KNN', 'Logistic Regression', 'Random Forest', 'Perceptron', 'Decision Tree','XGBoost'],\n",
        "    'Score': [ac_svc, ac_knn, ac_lr, ac_rf,ac_pr,ac_dt,ac_xgb]})\n",
        "models.sort_values(by='Score', ascending=False)"
      ],
      "metadata": {
        "colab": {
          "base_uri": "https://localhost:8080/",
          "height": 269
        },
        "id": "SnONVbw6YG3L",
        "outputId": "1a00de6a-4477-42d0-bcbe-90a76fae14a1"
      },
      "execution_count": null,
      "outputs": [
        {
          "output_type": "execute_result",
          "data": {
            "text/plain": [
              "                     Model   Score\n",
              "6                  XGBoost  0.8540\n",
              "3            Random Forest  0.8520\n",
              "0  Support Vector Machines  0.8465\n",
              "5            Decision Tree  0.8420\n",
              "1                      KNN  0.8350\n",
              "2      Logistic Regression  0.8075\n",
              "4               Perceptron  0.6630"
            ],
            "text/html": [
              "\n",
              "  <div id=\"df-cd1f70f4-d376-421a-8dc3-4a19495a5e0a\">\n",
              "    <div class=\"colab-df-container\">\n",
              "      <div>\n",
              "<style scoped>\n",
              "    .dataframe tbody tr th:only-of-type {\n",
              "        vertical-align: middle;\n",
              "    }\n",
              "\n",
              "    .dataframe tbody tr th {\n",
              "        vertical-align: top;\n",
              "    }\n",
              "\n",
              "    .dataframe thead th {\n",
              "        text-align: right;\n",
              "    }\n",
              "</style>\n",
              "<table border=\"1\" class=\"dataframe\">\n",
              "  <thead>\n",
              "    <tr style=\"text-align: right;\">\n",
              "      <th></th>\n",
              "      <th>Model</th>\n",
              "      <th>Score</th>\n",
              "    </tr>\n",
              "  </thead>\n",
              "  <tbody>\n",
              "    <tr>\n",
              "      <th>6</th>\n",
              "      <td>XGBoost</td>\n",
              "      <td>0.8540</td>\n",
              "    </tr>\n",
              "    <tr>\n",
              "      <th>3</th>\n",
              "      <td>Random Forest</td>\n",
              "      <td>0.8520</td>\n",
              "    </tr>\n",
              "    <tr>\n",
              "      <th>0</th>\n",
              "      <td>Support Vector Machines</td>\n",
              "      <td>0.8465</td>\n",
              "    </tr>\n",
              "    <tr>\n",
              "      <th>5</th>\n",
              "      <td>Decision Tree</td>\n",
              "      <td>0.8420</td>\n",
              "    </tr>\n",
              "    <tr>\n",
              "      <th>1</th>\n",
              "      <td>KNN</td>\n",
              "      <td>0.8350</td>\n",
              "    </tr>\n",
              "    <tr>\n",
              "      <th>2</th>\n",
              "      <td>Logistic Regression</td>\n",
              "      <td>0.8075</td>\n",
              "    </tr>\n",
              "    <tr>\n",
              "      <th>4</th>\n",
              "      <td>Perceptron</td>\n",
              "      <td>0.6630</td>\n",
              "    </tr>\n",
              "  </tbody>\n",
              "</table>\n",
              "</div>\n",
              "      <button class=\"colab-df-convert\" onclick=\"convertToInteractive('df-cd1f70f4-d376-421a-8dc3-4a19495a5e0a')\"\n",
              "              title=\"Convert this dataframe to an interactive table.\"\n",
              "              style=\"display:none;\">\n",
              "        \n",
              "  <svg xmlns=\"http://www.w3.org/2000/svg\" height=\"24px\"viewBox=\"0 0 24 24\"\n",
              "       width=\"24px\">\n",
              "    <path d=\"M0 0h24v24H0V0z\" fill=\"none\"/>\n",
              "    <path d=\"M18.56 5.44l.94 2.06.94-2.06 2.06-.94-2.06-.94-.94-2.06-.94 2.06-2.06.94zm-11 1L8.5 8.5l.94-2.06 2.06-.94-2.06-.94L8.5 2.5l-.94 2.06-2.06.94zm10 10l.94 2.06.94-2.06 2.06-.94-2.06-.94-.94-2.06-.94 2.06-2.06.94z\"/><path d=\"M17.41 7.96l-1.37-1.37c-.4-.4-.92-.59-1.43-.59-.52 0-1.04.2-1.43.59L10.3 9.45l-7.72 7.72c-.78.78-.78 2.05 0 2.83L4 21.41c.39.39.9.59 1.41.59.51 0 1.02-.2 1.41-.59l7.78-7.78 2.81-2.81c.8-.78.8-2.07 0-2.86zM5.41 20L4 18.59l7.72-7.72 1.47 1.35L5.41 20z\"/>\n",
              "  </svg>\n",
              "      </button>\n",
              "      \n",
              "  <style>\n",
              "    .colab-df-container {\n",
              "      display:flex;\n",
              "      flex-wrap:wrap;\n",
              "      gap: 12px;\n",
              "    }\n",
              "\n",
              "    .colab-df-convert {\n",
              "      background-color: #E8F0FE;\n",
              "      border: none;\n",
              "      border-radius: 50%;\n",
              "      cursor: pointer;\n",
              "      display: none;\n",
              "      fill: #1967D2;\n",
              "      height: 32px;\n",
              "      padding: 0 0 0 0;\n",
              "      width: 32px;\n",
              "    }\n",
              "\n",
              "    .colab-df-convert:hover {\n",
              "      background-color: #E2EBFA;\n",
              "      box-shadow: 0px 1px 2px rgba(60, 64, 67, 0.3), 0px 1px 3px 1px rgba(60, 64, 67, 0.15);\n",
              "      fill: #174EA6;\n",
              "    }\n",
              "\n",
              "    [theme=dark] .colab-df-convert {\n",
              "      background-color: #3B4455;\n",
              "      fill: #D2E3FC;\n",
              "    }\n",
              "\n",
              "    [theme=dark] .colab-df-convert:hover {\n",
              "      background-color: #434B5C;\n",
              "      box-shadow: 0px 1px 3px 1px rgba(0, 0, 0, 0.15);\n",
              "      filter: drop-shadow(0px 1px 2px rgba(0, 0, 0, 0.3));\n",
              "      fill: #FFFFFF;\n",
              "    }\n",
              "  </style>\n",
              "\n",
              "      <script>\n",
              "        const buttonEl =\n",
              "          document.querySelector('#df-cd1f70f4-d376-421a-8dc3-4a19495a5e0a button.colab-df-convert');\n",
              "        buttonEl.style.display =\n",
              "          google.colab.kernel.accessAllowed ? 'block' : 'none';\n",
              "\n",
              "        async function convertToInteractive(key) {\n",
              "          const element = document.querySelector('#df-cd1f70f4-d376-421a-8dc3-4a19495a5e0a');\n",
              "          const dataTable =\n",
              "            await google.colab.kernel.invokeFunction('convertToInteractive',\n",
              "                                                     [key], {});\n",
              "          if (!dataTable) return;\n",
              "\n",
              "          const docLinkHtml = 'Like what you see? Visit the ' +\n",
              "            '<a target=\"_blank\" href=https://colab.research.google.com/notebooks/data_table.ipynb>data table notebook</a>'\n",
              "            + ' to learn more about interactive tables.';\n",
              "          element.innerHTML = '';\n",
              "          dataTable['output_type'] = 'display_data';\n",
              "          await google.colab.output.renderOutput(dataTable, element);\n",
              "          const docLink = document.createElement('div');\n",
              "          docLink.innerHTML = docLinkHtml;\n",
              "          element.appendChild(docLink);\n",
              "        }\n",
              "      </script>\n",
              "    </div>\n",
              "  </div>\n",
              "  "
            ]
          },
          "metadata": {},
          "execution_count": 88
        }
      ]
    },
    {
      "cell_type": "markdown",
      "source": [
        "#4- Saving the best model and testing on real data"
      ],
      "metadata": {
        "id": "N-PWMH6ibH71"
      }
    },
    {
      "cell_type": "code",
      "source": [
        "#save best model\n",
        "import joblib\n",
        "Bank_model=XGBClassifier()\n",
        "Bank_model.fit(x_train,y_train)\n",
        "joblib.dump(Bank_model,'Bank_model.h5')\n"
      ],
      "metadata": {
        "colab": {
          "base_uri": "https://localhost:8080/"
        },
        "id": "-M48-CM9bKYL",
        "outputId": "5d046e3e-0254-453c-ba65-5b31476ccad2"
      },
      "execution_count": null,
      "outputs": [
        {
          "output_type": "execute_result",
          "data": {
            "text/plain": [
              "['Bank_model.h5']"
            ]
          },
          "metadata": {},
          "execution_count": 89
        }
      ]
    },
    {
      "cell_type": "code",
      "source": [
        "joblib.dump(scaler,'scaler.h5')\n"
      ],
      "metadata": {
        "colab": {
          "base_uri": "https://localhost:8080/"
        },
        "id": "G8vN32W3bt1U",
        "outputId": "8caba7d0-f93c-4e4c-c1d4-f9bc1bcacb4d"
      },
      "execution_count": null,
      "outputs": [
        {
          "output_type": "execute_result",
          "data": {
            "text/plain": [
              "['scaler.h5']"
            ]
          },
          "metadata": {},
          "execution_count": 90
        }
      ]
    },
    {
      "cell_type": "code",
      "source": [
        "#test on real data\n",
        "df.head()"
      ],
      "metadata": {
        "colab": {
          "base_uri": "https://localhost:8080/",
          "height": 206
        },
        "id": "tmmgD2ANbzob",
        "outputId": "34d39b58-db1c-4eb4-ef21-22591a2e72ea"
      },
      "execution_count": null,
      "outputs": [
        {
          "output_type": "execute_result",
          "data": {
            "text/plain": [
              "   credit_score  gender  age  tenure    balance  products_number  credit_card  \\\n",
              "0           619       0   42       2       0.00                1            1   \n",
              "1           608       0   41       1   83807.86                1            0   \n",
              "2           502       0   42       8  159660.80                3            1   \n",
              "3           699       0   39       1       0.00                2            0   \n",
              "4           850       0   43       2  125510.82                1            1   \n",
              "\n",
              "   active_member  estimated_salary  churn  \n",
              "0              1         101348.88      1  \n",
              "1              1         112542.58      0  \n",
              "2              0         113931.57      1  \n",
              "3              0          93826.63      0  \n",
              "4              1          79084.10      0  "
            ],
            "text/html": [
              "\n",
              "  <div id=\"df-a8883a21-233d-4412-b873-87cdcd432daa\">\n",
              "    <div class=\"colab-df-container\">\n",
              "      <div>\n",
              "<style scoped>\n",
              "    .dataframe tbody tr th:only-of-type {\n",
              "        vertical-align: middle;\n",
              "    }\n",
              "\n",
              "    .dataframe tbody tr th {\n",
              "        vertical-align: top;\n",
              "    }\n",
              "\n",
              "    .dataframe thead th {\n",
              "        text-align: right;\n",
              "    }\n",
              "</style>\n",
              "<table border=\"1\" class=\"dataframe\">\n",
              "  <thead>\n",
              "    <tr style=\"text-align: right;\">\n",
              "      <th></th>\n",
              "      <th>credit_score</th>\n",
              "      <th>gender</th>\n",
              "      <th>age</th>\n",
              "      <th>tenure</th>\n",
              "      <th>balance</th>\n",
              "      <th>products_number</th>\n",
              "      <th>credit_card</th>\n",
              "      <th>active_member</th>\n",
              "      <th>estimated_salary</th>\n",
              "      <th>churn</th>\n",
              "    </tr>\n",
              "  </thead>\n",
              "  <tbody>\n",
              "    <tr>\n",
              "      <th>0</th>\n",
              "      <td>619</td>\n",
              "      <td>0</td>\n",
              "      <td>42</td>\n",
              "      <td>2</td>\n",
              "      <td>0.00</td>\n",
              "      <td>1</td>\n",
              "      <td>1</td>\n",
              "      <td>1</td>\n",
              "      <td>101348.88</td>\n",
              "      <td>1</td>\n",
              "    </tr>\n",
              "    <tr>\n",
              "      <th>1</th>\n",
              "      <td>608</td>\n",
              "      <td>0</td>\n",
              "      <td>41</td>\n",
              "      <td>1</td>\n",
              "      <td>83807.86</td>\n",
              "      <td>1</td>\n",
              "      <td>0</td>\n",
              "      <td>1</td>\n",
              "      <td>112542.58</td>\n",
              "      <td>0</td>\n",
              "    </tr>\n",
              "    <tr>\n",
              "      <th>2</th>\n",
              "      <td>502</td>\n",
              "      <td>0</td>\n",
              "      <td>42</td>\n",
              "      <td>8</td>\n",
              "      <td>159660.80</td>\n",
              "      <td>3</td>\n",
              "      <td>1</td>\n",
              "      <td>0</td>\n",
              "      <td>113931.57</td>\n",
              "      <td>1</td>\n",
              "    </tr>\n",
              "    <tr>\n",
              "      <th>3</th>\n",
              "      <td>699</td>\n",
              "      <td>0</td>\n",
              "      <td>39</td>\n",
              "      <td>1</td>\n",
              "      <td>0.00</td>\n",
              "      <td>2</td>\n",
              "      <td>0</td>\n",
              "      <td>0</td>\n",
              "      <td>93826.63</td>\n",
              "      <td>0</td>\n",
              "    </tr>\n",
              "    <tr>\n",
              "      <th>4</th>\n",
              "      <td>850</td>\n",
              "      <td>0</td>\n",
              "      <td>43</td>\n",
              "      <td>2</td>\n",
              "      <td>125510.82</td>\n",
              "      <td>1</td>\n",
              "      <td>1</td>\n",
              "      <td>1</td>\n",
              "      <td>79084.10</td>\n",
              "      <td>0</td>\n",
              "    </tr>\n",
              "  </tbody>\n",
              "</table>\n",
              "</div>\n",
              "      <button class=\"colab-df-convert\" onclick=\"convertToInteractive('df-a8883a21-233d-4412-b873-87cdcd432daa')\"\n",
              "              title=\"Convert this dataframe to an interactive table.\"\n",
              "              style=\"display:none;\">\n",
              "        \n",
              "  <svg xmlns=\"http://www.w3.org/2000/svg\" height=\"24px\"viewBox=\"0 0 24 24\"\n",
              "       width=\"24px\">\n",
              "    <path d=\"M0 0h24v24H0V0z\" fill=\"none\"/>\n",
              "    <path d=\"M18.56 5.44l.94 2.06.94-2.06 2.06-.94-2.06-.94-.94-2.06-.94 2.06-2.06.94zm-11 1L8.5 8.5l.94-2.06 2.06-.94-2.06-.94L8.5 2.5l-.94 2.06-2.06.94zm10 10l.94 2.06.94-2.06 2.06-.94-2.06-.94-.94-2.06-.94 2.06-2.06.94z\"/><path d=\"M17.41 7.96l-1.37-1.37c-.4-.4-.92-.59-1.43-.59-.52 0-1.04.2-1.43.59L10.3 9.45l-7.72 7.72c-.78.78-.78 2.05 0 2.83L4 21.41c.39.39.9.59 1.41.59.51 0 1.02-.2 1.41-.59l7.78-7.78 2.81-2.81c.8-.78.8-2.07 0-2.86zM5.41 20L4 18.59l7.72-7.72 1.47 1.35L5.41 20z\"/>\n",
              "  </svg>\n",
              "      </button>\n",
              "      \n",
              "  <style>\n",
              "    .colab-df-container {\n",
              "      display:flex;\n",
              "      flex-wrap:wrap;\n",
              "      gap: 12px;\n",
              "    }\n",
              "\n",
              "    .colab-df-convert {\n",
              "      background-color: #E8F0FE;\n",
              "      border: none;\n",
              "      border-radius: 50%;\n",
              "      cursor: pointer;\n",
              "      display: none;\n",
              "      fill: #1967D2;\n",
              "      height: 32px;\n",
              "      padding: 0 0 0 0;\n",
              "      width: 32px;\n",
              "    }\n",
              "\n",
              "    .colab-df-convert:hover {\n",
              "      background-color: #E2EBFA;\n",
              "      box-shadow: 0px 1px 2px rgba(60, 64, 67, 0.3), 0px 1px 3px 1px rgba(60, 64, 67, 0.15);\n",
              "      fill: #174EA6;\n",
              "    }\n",
              "\n",
              "    [theme=dark] .colab-df-convert {\n",
              "      background-color: #3B4455;\n",
              "      fill: #D2E3FC;\n",
              "    }\n",
              "\n",
              "    [theme=dark] .colab-df-convert:hover {\n",
              "      background-color: #434B5C;\n",
              "      box-shadow: 0px 1px 3px 1px rgba(0, 0, 0, 0.15);\n",
              "      filter: drop-shadow(0px 1px 2px rgba(0, 0, 0, 0.3));\n",
              "      fill: #FFFFFF;\n",
              "    }\n",
              "  </style>\n",
              "\n",
              "      <script>\n",
              "        const buttonEl =\n",
              "          document.querySelector('#df-a8883a21-233d-4412-b873-87cdcd432daa button.colab-df-convert');\n",
              "        buttonEl.style.display =\n",
              "          google.colab.kernel.accessAllowed ? 'block' : 'none';\n",
              "\n",
              "        async function convertToInteractive(key) {\n",
              "          const element = document.querySelector('#df-a8883a21-233d-4412-b873-87cdcd432daa');\n",
              "          const dataTable =\n",
              "            await google.colab.kernel.invokeFunction('convertToInteractive',\n",
              "                                                     [key], {});\n",
              "          if (!dataTable) return;\n",
              "\n",
              "          const docLinkHtml = 'Like what you see? Visit the ' +\n",
              "            '<a target=\"_blank\" href=https://colab.research.google.com/notebooks/data_table.ipynb>data table notebook</a>'\n",
              "            + ' to learn more about interactive tables.';\n",
              "          element.innerHTML = '';\n",
              "          dataTable['output_type'] = 'display_data';\n",
              "          await google.colab.output.renderOutput(dataTable, element);\n",
              "          const docLink = document.createElement('div');\n",
              "          docLink.innerHTML = docLinkHtml;\n",
              "          element.appendChild(docLink);\n",
              "        }\n",
              "      </script>\n",
              "    </div>\n",
              "  </div>\n",
              "  "
            ]
          },
          "metadata": {},
          "execution_count": 84
        }
      ]
    },
    {
      "cell_type": "code",
      "source": [
        "second_row_test=[608,0,41,1,83807.86,1,0,1,112542.58]\n",
        "second_row_test=scaler.transform([second_row_test])"
      ],
      "metadata": {
        "colab": {
          "base_uri": "https://localhost:8080/"
        },
        "id": "-PMM6ye0b5M_",
        "outputId": "8083e1c0-e4c7-4490-838d-a5fcfe78e19e"
      },
      "execution_count": null,
      "outputs": [
        {
          "output_type": "stream",
          "name": "stderr",
          "text": [
            "/usr/local/lib/python3.7/dist-packages/sklearn/base.py:451: UserWarning: X does not have valid feature names, but StandardScaler was fitted with feature names\n",
            "  \"X does not have valid feature names, but\"\n"
          ]
        }
      ]
    },
    {
      "cell_type": "code",
      "source": [
        "Bank_model.predict(second_row_test)"
      ],
      "metadata": {
        "colab": {
          "base_uri": "https://localhost:8080/"
        },
        "id": "gdtUy2T3c7MP",
        "outputId": "57ba5ab2-aaf8-462d-e829-8b36fb168d92"
      },
      "execution_count": null,
      "outputs": [
        {
          "output_type": "execute_result",
          "data": {
            "text/plain": [
              "array([0])"
            ]
          },
          "metadata": {},
          "execution_count": 97
        }
      ]
    },
    {
      "cell_type": "code",
      "source": [
        "third_row_test=[502,0,42,8,159660.80,3,1,0,113931.57]\n",
        "third_row_test=scaler.transform([third_row_test])"
      ],
      "metadata": {
        "colab": {
          "base_uri": "https://localhost:8080/"
        },
        "id": "ahvYqturd47j",
        "outputId": "4e8a99ba-3fb4-4d52-aec4-135d1a99f2a8"
      },
      "execution_count": null,
      "outputs": [
        {
          "output_type": "stream",
          "name": "stderr",
          "text": [
            "/usr/local/lib/python3.7/dist-packages/sklearn/base.py:451: UserWarning: X does not have valid feature names, but StandardScaler was fitted with feature names\n",
            "  \"X does not have valid feature names, but\"\n"
          ]
        }
      ]
    },
    {
      "cell_type": "code",
      "source": [
        "Bank_model.predict(third_row_test)"
      ],
      "metadata": {
        "colab": {
          "base_uri": "https://localhost:8080/"
        },
        "id": "MYAtP3eFeO-e",
        "outputId": "2f542e45-3ed1-4ec9-c352-c50b5c166451"
      },
      "execution_count": null,
      "outputs": [
        {
          "output_type": "execute_result",
          "data": {
            "text/plain": [
              "array([1])"
            ]
          },
          "metadata": {},
          "execution_count": 99
        }
      ]
    },
    {
      "cell_type": "markdown",
      "source": [
        "#5- Deployment model on Web App (ask for it)"
      ],
      "metadata": {
        "id": "OajAVhREeXYX"
      }
    }
  ]
}